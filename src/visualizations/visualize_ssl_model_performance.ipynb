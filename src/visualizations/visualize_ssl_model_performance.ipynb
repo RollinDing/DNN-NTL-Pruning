{
 "cells": [
  {
   "cell_type": "code",
   "execution_count": 2,
   "metadata": {},
   "outputs": [],
   "source": [
    "import matplotlib.pyplot as plt\n",
    "import re\n",
    "import numpy as np"
   ]
  },
  {
   "cell_type": "code",
   "execution_count": null,
   "metadata": {},
   "outputs": [],
   "source": []
  },
  {
   "cell_type": "code",
   "execution_count": 194,
   "metadata": {},
   "outputs": [],
   "source": [
    "def extract_floats(s):\n",
    "    # Regular expression for matching floats\n",
    "    pattern = r\"[-+]?[0-9]*\\.?[0-9]+\"\n",
    "    # Find all matches in the string\n",
    "    matches = re.findall(pattern, s)\n",
    "    # Convert all matches to float\n",
    "    floats = [float(match) for match in matches]\n",
    "    return floats"
   ]
  },
  {
   "cell_type": "code",
   "execution_count": 200,
   "metadata": {},
   "outputs": [],
   "source": [
    "def read_file(file_path, results):\n",
    "    with open(file_path, \"r\") as file:\n",
    "        lines = file.readlines()\n",
    "        for line in lines:\n",
    "            if \"Data ratio\" in line:\n",
    "                # Get the value after \":\"\n",
    "                line = line.split(\":\")[2].strip()\n",
    "                data_ratio = extract_floats(line.split(\",\")[0].strip())[0]\n",
    "                data_volume = extract_floats(line.split(\",\")[1].strip())[0]\n",
    "                accuracy = extract_floats(line.split(\",\")[3].strip())[0]\n",
    "                if data_volume not in results:\n",
    "                    results[data_volume] = [accuracy]\n",
    "                else:\n",
    "                    results[data_volume].append(accuracy)\n",
    "        return results"
   ]
  },
  {
   "cell_type": "code",
   "execution_count": 227,
   "metadata": {},
   "outputs": [],
   "source": [
    "model_name = 'moco-v2'"
   ]
  },
  {
   "cell_type": "code",
   "execution_count": 228,
   "metadata": {},
   "outputs": [
    {
     "name": "stdout",
     "output_type": "stream",
     "text": [
      "{5.0: [0.169375, 0.177125, 0.146625, 0.1575, 0.134875], 10.0: [0.16575, 0.118875, 0.174875, 0.162625, 0.19375], 25.0: [0.322875, 0.277, 0.26025, 0.142625, 0.231875], 40.0: [0.32775, 0.27625, 0.247375, 0.290125, 0.27375], 50.0: [0.29475, 0.2585, 0.257, 0.259625, 0.27175], 250.0: [0.421, 0.33775, 0.33925, 0.318625, 0.3205], 500.0: [0.452125, 0.344625, 0.32325, 0.349125, 0.358625], 1000.0: [0.6185, 0.49425, 0.49325, 0.4845, 0.475875], 2500.0: [0.686625, 0.589, 0.604, 0.599625, 0.609125], 5000.0: [0.71325, 0.620125, 0.664625, 0.657875, 0.6565]}\n"
     ]
    }
   ],
   "source": [
    "file_directory = \"../../logs/ssl/admm-lda/\"\n",
    "source = 'cifar10'\n",
    "target = 'stl'\n",
    "seeds = [1, 2, 3, 4, 5]\n",
    "ntp = {}\n",
    "for s in seeds:\n",
    "    org_path = file_directory + f\"{model_name}/{s}/admm_\" + source + \"_to_\" + target + \".log\"\n",
    "    org_dic = read_file(org_path, ntp)\n",
    "print(ntp)"
   ]
  },
  {
   "cell_type": "code",
   "execution_count": 229,
   "metadata": {},
   "outputs": [
    {
     "name": "stdout",
     "output_type": "stream",
     "text": [
      "{5.0: [0.12725, 0.183, 0.127375, 0.130375, 0.111, 0.13625, 0.115375, 0.18625, 0.128875, 0.1715], 10.0: [0.172625, 0.1925, 0.171875, 0.153125, 0.155375, 0.174625, 0.152125, 0.1675, 0.159625, 0.15675], 25.0: [0.24175, 0.249875, 0.246375, 0.24875, 0.234875, 0.254625, 0.243375, 0.259625, 0.245375, 0.252875], 40.0: [0.280375, 0.3165, 0.304625, 0.322125, 0.292375, 0.32425, 0.308, 0.31925, 0.2985, 0.31875], 50.0: [0.32325, 0.326375, 0.323375, 0.336, 0.329, 0.298125, 0.320875, 0.3295, 0.318375, 0.314125], 250.0: [0.48025, 0.495375, 0.450125, 0.506375, 0.46675, 0.48525, 0.4835, 0.489375, 0.486125, 0.505375], 500.0: [0.544, 0.5285, 0.526875, 0.50475, 0.532125, 0.522875, 0.533, 0.522375, 0.51725, 0.517], 1000.0: [0.599125, 0.603875, 0.62175, 0.60125, 0.60875, 0.600875, 0.594375, 0.589625, 0.606125, 0.59325], 2500.0: [0.676875, 0.6735, 0.677625, 0.6805, 0.673, 0.678125, 0.679, 0.681125, 0.670625, 0.66925], 5000.0: [0.69525, 0.694, 0.705125, 0.70125, 0.708375, 0.69825, 0.704125, 0.700625, 0.720875, 0.686]}\n"
     ]
    }
   ],
   "source": [
    "file_directory = \"../../logs/ssl/original/\"\n",
    "source = 'cifar10'\n",
    "target = 'stl'\n",
    "\n",
    "org = {}\n",
    "for s in seeds:\n",
    "    org_path = file_directory + f\"{model_name}/{s}/admm_\" + source + \"_to_\" + target + \".log\"\n",
    "    org_dic = read_file(org_path, org)\n",
    "print(org)"
   ]
  },
  {
   "cell_type": "code",
   "execution_count": 230,
   "metadata": {},
   "outputs": [
    {
     "data": {
      "image/png": "[encoded data removed]",
      "text/plain": [
       "<Figure size 300x200 with 1 Axes>"
      ]
     },
     "metadata": {},
     "output_type": "display_data"
    }
   ],
   "source": [
    "colors = ['#aa3e36', '#ecd355', '#2ca02c', '#d62728', '#9467bd']\n",
    "figure = plt.figure(figsize=(3, 2))\n",
    "std = np.std(list(ntp.values()), axis=1)\n",
    "mean = np.mean(list(ntp.values()), axis=1)\n",
    "# Set color mapping\n",
    "cmap = plt.get_cmap('tab10')\n",
    "plt.plot(list(ntp.keys()), mean, label=f\"ntp\", color=colors[0], marker=\"o\")\n",
    "# Draw the std using the bars\n",
    "plt.errorbar(list(ntp.keys()), mean, yerr=std, fmt='.', color=colors[0])\n",
    "\n",
    "std = np.std(list(org.values()), axis=1)\n",
    "mean = np.mean(list(org.values()), axis=1)\n",
    "# Set color mapping\n",
    "cmap = plt.get_cmap('tab10')\n",
    "plt.plot(list(org.keys()), mean, label=f\"org\", color=colors[1], marker=\"o\")\n",
    "# Draw the std using the bars\n",
    "plt.errorbar(list(org.keys()), mean, yerr=std, fmt='.', color=colors[1])\n",
    "\n",
    "# Set the text size \n",
    "plt.xlabel(\"Data Volume\")\n",
    "plt.ylabel(\"Accuracy\")\n",
    "\n",
    "# set fontsize \n",
    "plt.xticks(fontsize=8)\n",
    "plt.yticks(fontsize=8)\n",
    "plt.grid(True)\n",
    "\n",
    "# Set the x-axis to a log scale\n",
    "plt.xscale('log')\n",
    "plt.title(model_name)\n",
    "plt.legend()\n",
    "# Set the fontsize for labels \n",
    "plt.legend(fontsize=12)\n",
    "# save figure in svg\n",
    "plt.tight_layout()\n",
    "plt.savefig(f\"../../imgs/ntp_vs_org_{model_name}.jpeg\", format=\"jpeg\", dpi=1200)"
   ]
  },
  {
   "cell_type": "code",
   "execution_count": null,
   "metadata": {},
   "outputs": [],
   "source": []
  },
  {
   "cell_type": "code",
   "execution_count": null,
   "metadata": {},
   "outputs": [],
   "source": []
  },
  {
   "cell_type": "code",
   "execution_count": null,
   "metadata": {},
   "outputs": [],
   "source": []
  }
 ],
 "metadata": {
  "kernelspec": {
   "display_name": "pytorch",
   "language": "python",
   "name": "python3"
  },
  "language_info": {
   "codemirror_mode": {
    "name": "ipython",
    "version": 3
   },
   "file_extension": ".py",
   "mimetype": "text/x-python",
   "name": "python",
   "nbconvert_exporter": "python",
   "pygments_lexer": "ipython3",
   "version": "3.9.13"
  }
 },
 "nbformat": 4,
 "nbformat_minor": 2
}
