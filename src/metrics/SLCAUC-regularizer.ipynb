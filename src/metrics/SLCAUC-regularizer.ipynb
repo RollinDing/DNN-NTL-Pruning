{
 "cells": [
  {
   "cell_type": "code",
   "execution_count": 2,
   "metadata": {},
   "outputs": [],
   "source": [
    "import matplotlib.pyplot as plt\n",
    "import re\n",
    "import numpy as np"
   ]
  },
  {
   "cell_type": "code",
   "execution_count": 3,
   "metadata": {},
   "outputs": [],
   "source": [
    "datasets = [\"mnist\", \"usps\"]\n",
    "file_directory = \"../../logs/resnet18/\""
   ]
  },
  {
   "cell_type": "code",
   "execution_count": 4,
   "metadata": {},
   "outputs": [],
   "source": [
    "def extract_floats(s):\n",
    "    # Regular expression for matching floats\n",
    "    pattern = r\"[-+]?[0-9]*\\.?[0-9]+\"\n",
    "    # Find all matches in the string\n",
    "    matches = re.findall(pattern, s)\n",
    "    # Convert all matches to float\n",
    "    floats = [float(match) for match in matches]\n",
    "    return floats"
   ]
  },
  {
   "cell_type": "code",
   "execution_count": 5,
   "metadata": {},
   "outputs": [],
   "source": [
    "def read_file(file_path):\n",
    "    results = {}\n",
    "    with open(file_path, \"r\") as file:\n",
    "        lines = file.readlines()\n",
    "        for line in lines:\n",
    "            if \"Data ratio\" in line:\n",
    "                # Get the value after \":\"\n",
    "                line = line.split(\":\")[2].strip()\n",
    "                data_ratio = extract_floats(line.split(\",\")[0].strip())[0]\n",
    "                data_volume = extract_floats(line.split(\",\")[1].strip())[0]\n",
    "                accuracy = extract_floats(line.split(\",\")[3].strip())[0]\n",
    "                results[data_ratio] = accuracy\n",
    "        return results"
   ]
  },
  {
   "cell_type": "code",
   "execution_count": 6,
   "metadata": {},
   "outputs": [],
   "source": [
    "# Given the xaxis (dic.keys()) and yaxis (dic.values()), compute the log scale area under the curve\n",
    "def log_auc(xaxis, yaxis):\n",
    "    auc = 0\n",
    "    for i in range(1, len(xaxis)):\n",
    "        # log scale area under the curve\n",
    "        auc += (np.log(xaxis[i]) - np.log(xaxis[i - 1])) * (yaxis[i] + yaxis[i - 1]) / 2\n",
    "    return auc"
   ]
  },
  {
   "cell_type": "code",
   "execution_count": 7,
   "metadata": {},
   "outputs": [
    {
     "name": "stdout",
     "output_type": "stream",
     "text": [
      "usps: 5.232009656462087\n"
     ]
    }
   ],
   "source": [
    "# Compute the log scale area under the curve for all datasets\n",
    "local = {}\n",
    "target='usps'\n",
    "target_path = file_directory + \"local/\" + target + \".log\"\n",
    "target_dic = read_file(target_path)\n",
    "auc = log_auc(list(target_dic.keys()), list(target_dic.values()))\n",
    "print(f\"{target}: {auc}\")\n",
    "local[target] = auc\n",
    "target_auc = auc"
   ]
  },
  {
   "cell_type": "code",
   "execution_count": 8,
   "metadata": {},
   "outputs": [
    {
     "name": "stdout",
     "output_type": "stream",
     "text": [
      "alpha=0.0, reg=0.0: 1.002101414811623\n",
      "alpha=0.0, reg=0.001: 0.9659278141351848\n",
      "alpha=0.0, reg=0.01: 0.8042044427776007\n",
      "alpha=0.0, reg=0.1: 0.40077111364952334\n",
      "alpha=0.0, reg=1.0: 0.15737435367974406\n",
      "alpha=0.0, reg=10.0: 0.12241194509988595\n",
      "alpha=0.0, reg=100.0: -0.28032979521387613\n",
      "alpha=0.0, reg=1000.0: -1.472052062050531\n",
      "alpha=0.001, reg=0.0: 0.7008974077563295\n",
      "alpha=0.001, reg=0.001: 0.31459025710648447\n",
      "alpha=0.001, reg=0.01: 0.28373595696613485\n",
      "alpha=0.001, reg=0.1: 0.11327051649511777\n",
      "alpha=0.001, reg=1.0: 0.12359117968654232\n",
      "alpha=0.001, reg=10.0: -0.0448098769181442\n",
      "alpha=0.001, reg=100.0: -1.1970251387349622\n",
      "alpha=0.001, reg=1000.0: -1.8194702204767355\n",
      "alpha=0.01, reg=0.0: 0.1622819591329847\n",
      "alpha=0.01, reg=0.001: 0.07855302904346662\n",
      "alpha=0.01, reg=0.01: 0.14443175622133442\n",
      "alpha=0.01, reg=0.1: 0.07361614067355404\n",
      "alpha=0.01, reg=1.0: -0.018229681140890186\n",
      "alpha=0.01, reg=10.0: -0.127720247341089\n",
      "alpha=0.01, reg=100.0: -1.1464646442794661\n",
      "alpha=0.01, reg=1000.0: -0.8592436003564474\n",
      "alpha=0.1, reg=0.0: -0.9691725105411129\n",
      "alpha=0.1, reg=0.001: -1.2673455628398211\n",
      "alpha=0.1, reg=0.01: -1.264981185214439\n",
      "alpha=0.1, reg=0.1: -1.5503035006946364\n",
      "alpha=0.1, reg=1.0: -1.4005282508633559\n",
      "alpha=0.1, reg=10.0: -0.8525445183633256\n",
      "alpha=0.1, reg=100.0: -1.2208716989214263\n",
      "alpha=0.1, reg=1000.0: -2.4051465851012965\n",
      "alpha=1.0, reg=0.0: -1.7379840057686535\n",
      "alpha=1.0, reg=0.001: -1.721670219161235\n",
      "alpha=1.0, reg=0.01: -1.9017266492818727\n",
      "alpha=1.0, reg=0.1: -1.89320962003455\n",
      "alpha=1.0, reg=1.0: -0.564805945907529\n",
      "alpha=1.0, reg=10.0: -1.9398290393488677\n",
      "alpha=1.0, reg=100.0: -1.2890353192544848\n",
      "alpha=1.0, reg=1000.0: -2.2490070573264203\n",
      "alpha=10.0, reg=0.0: -0.20663446999201263\n",
      "alpha=10.0, reg=0.001: -0.2553424662465176\n",
      "alpha=10.0, reg=0.01: -0.5061307562111796\n",
      "alpha=10.0, reg=0.1: -0.6054741196577291\n",
      "alpha=10.0, reg=1.0: -1.0402580183220138\n",
      "alpha=10.0, reg=10.0: -1.4088559503006857\n",
      "alpha=10.0, reg=100.0: -1.6893181872879066\n",
      "alpha=10.0, reg=1000.0: -1.9344415119811647\n",
      "alpha=100.0, reg=0.0: -1.203726198446665\n",
      "alpha=100.0, reg=0.001: -1.345093445761174\n",
      "alpha=100.0, reg=0.01: -0.12609546359946133\n",
      "alpha=100.0, reg=0.1: -1.9032072149242039\n",
      "alpha=100.0, reg=1.0: -0.4083986818054104\n",
      "alpha=100.0, reg=10.0: -1.9699869607539648\n",
      "alpha=100.0, reg=100.0: -2.020424715012573\n",
      "alpha=100.0, reg=1000.0: -2.1089269933761776\n",
      "alpha=1000.0, reg=0.0: -0.5543279104160392\n",
      "alpha=1000.0, reg=0.001: -0.16349664443207335\n",
      "alpha=1000.0, reg=0.01: -0.24109146686511895\n",
      "alpha=1000.0, reg=0.1: -1.8443343311380285\n",
      "alpha=1000.0, reg=1.0: -1.8512875577266383\n",
      "alpha=1000.0, reg=10.0: -2.0809535214410477\n",
      "alpha=1000.0, reg=100.0: -2.223440659477804\n",
      "alpha=1000.0, reg=1000.0: -2.392609255586292\n"
     ]
    }
   ],
   "source": [
    "# Compute the log scale area under the curve for all NTL+LDA\n",
    "source='mnist'\n",
    "target='usps'\n",
    "\n",
    "alphas=[0.0,1e-3,1e-2,1e-1,1e0,1e1,1e2,1e3]\n",
    "regs=[0.0,1e-3,1e-2,1e-1,1e0,1e1,1e2,1e3]\n",
    "\n",
    "results={}\n",
    "for alpha in alphas:\n",
    "    if alpha not in results.keys():\n",
    "        results[alpha]={}\n",
    "    for reg in regs:\n",
    "        if reg not in results[alpha].keys():\n",
    "            results[alpha][reg]=0\n",
    "        ntl_lda_path = file_directory + f\"lda/2/0.95/finetune-0.1-{alpha}-{reg}/admm_\" + source + \"_to_\" + target + \".log\"\n",
    "        ntl_lda_dic = read_file(ntl_lda_path)\n",
    "        auc = log_auc(list(ntl_lda_dic.keys()), list(ntl_lda_dic.values()))\n",
    "        auc = auc - target_auc\n",
    "        print(f\"alpha={alpha}, reg={reg}: {auc}\")\n",
    "        results[alpha][reg] = auc"
   ]
  },
  {
   "cell_type": "code",
   "execution_count": 50,
   "metadata": {},
   "outputs": [
    {
     "name": "stderr",
     "output_type": "stream",
     "text": [
      "/tmp/ipykernel_7808/2550657296.py:36: UserWarning: FixedFormatter should only be used together with FixedLocator\n",
      "  ax.set_xticklabels(regs)\n",
      "/tmp/ipykernel_7808/2550657296.py:37: UserWarning: FixedFormatter should only be used together with FixedLocator\n",
      "  ax.set_yticklabels(alphas)\n"
     ]
    },
    {
     "data": {
      "image/png": "[encoded data removed]",
      "text/plain": [
       "<Figure size 700x600 with 2 Axes>"
      ]
     },
     "metadata": {},
     "output_type": "display_data"
    }
   ],
   "source": [
    "import pylab as plt\n",
    "import numpy as np\n",
    "import seaborn as sns\n",
    "import numpy as np\n",
    "from pandas import DataFrame as DF\n",
    "import pylab as plt\n",
    "from matplotlib.ticker import ScalarFormatter, FuncFormatter\n",
    "\n",
    "plt.rcParams.update({\n",
    "    \"text.usetex\": True,\n",
    "    \"font.family\": \"libertine\",\n",
    "    \"font.size\": 18,\n",
    "    'font.serif': 'Linux Libertine',\n",
    "    'text.latex.preamble':  r'\\usepackage{libertine}'\n",
    "})\n",
    "\n",
    "alphas = [0.0, 0.001, 0.01, 0.1, 1.0, 10.0, 100.0, 1000.0]  # Example alphas\n",
    "regs = [0.0, 0.001, 0.01, 0.1, 1.0, 10.0, 100.0, 1000.0]  # Example regs\n",
    "\n",
    "# Define a function to format the tick labels in scientific notation\n",
    "def sci_format(x, pos):\n",
    "    if x == 0:\n",
    "        return \"0\"\n",
    "    else:\n",
    "        return r'$10^{%d}$' % np.log10(x)\n",
    "\n",
    "sci_formatter = FuncFormatter(sci_format) \n",
    "\n",
    "# Show results in a heatmap\n",
    "fig, ax = plt.subplots(figsize=(7, 6))\n",
    "cax = ax.matshow([[results[alpha][reg] for reg in regs] for alpha in alphas], cmap='coolwarm')\n",
    "# The colorbar size is defined by the axes size\n",
    "fig.colorbar(cax, ax=ax)\n",
    "\n",
    "\n",
    "ax.set_xticklabels(regs)\n",
    "ax.set_yticklabels(alphas)\n",
    "\n",
    "# Setting the tick positions\n",
    "ax.set_xticks(np.arange(len(regs)))\n",
    "ax.set_yticks(np.arange(len(alphas)))\n",
    "\n",
    "# Applying the formatter to the axes\n",
    "ax.xaxis.set_major_formatter(FuncFormatter(lambda x, pos: sci_format(regs[int(x)], pos)))  # Apply the formatter to x-axis for reg values\n",
    "ax.yaxis.set_major_formatter(FuncFormatter(lambda x, pos: sci_format(alphas[int(x)], pos)))  # y-axis for alpha values\n",
    "\n",
    "# Show the ticks in scientific notation \n",
    "plt.xlabel(r'Regularization Weights of $\\mathcal{R}_{\\mathcal{\\phi}_\\mathcal{T}}$')\n",
    "plt.ylabel(r'Regularization Weights of $\\mathcal{R}_\\mathcal{T}$')\n",
    "# plt.title(r'SLC-AUC')\n",
    "plt.tight_layout()\n",
    "plt.savefig('SLC-AUC-heatmap.pdf')\n",
    "plt.show()"
   ]
  }
 ],
 "metadata": {
  "kernelspec": {
   "display_name": "pytorch",
   "language": "python",
   "name": "python3"
  },
  "language_info": {
   "codemirror_mode": {
    "name": "ipython",
    "version": 3
   },
   "file_extension": ".py",
   "mimetype": "text/x-python",
   "name": "python",
   "nbconvert_exporter": "python",
   "pygments_lexer": "ipython3",
   "version": "3.9.13"
  }
 },
 "nbformat": 4,
 "nbformat_minor": 2
}
